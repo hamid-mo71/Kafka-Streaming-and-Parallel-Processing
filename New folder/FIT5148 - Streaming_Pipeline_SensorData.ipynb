{
 "cells": [
  {
   "cell_type": "markdown",
   "metadata": {},
   "source": [
    "# FIT5148 - Big data management and processing\n",
    "\n",
    "# Activity: Working with real sensor data #\n",
    "\n",
    "In this activity, we will learn and practice accessing real sensors data and some simple data preparation and visualisation. We will be following the same pipeline we did in Week 11 shown below.\n",
    "![Apache kafka and Apache Spark Pipeline](http://tlfvincent.github.io/img/kafka_spark_pipeline.png)\n",
    "\n",
    "**The following is the plan of our tasks to be done this week**:\n",
    "- Accessing the open senors data using Apache Kafka Producer\n",
    "- Data Preparation and inserting into MongoDB using Apache Spark\n",
    "- Visualisation on Maps\n",
    "\n",
    "# Reference:\n",
    "- https://data.melbourne.vic.gov.au/Transport-Movement/On-street-Parking-Bay-Sensors/vh2v-4nfs\n",
    "- https://dev.socrata.com/foundry/data.melbourne.vic.gov.au/dtpv-d4pf\n",
    "- https://pypi.org/project/gmplot/\n",
    "- https://github.com/vgm64/gmplot\n",
    "- https://developers.google.com/api-client-library/python/guide/aaa_apikeys\n",
    "\n",
    "    \n"
   ]
  },
  {
   "cell_type": "markdown",
   "metadata": {},
   "source": [
    "<font color='blue'>\n",
    "**What you need to remember**:\n",
    "- Run your cells using SHIFT+ENTER (or \"Run cell\")\n",
    "- Run the current cell and insert a new cell below: ALT+ENTER\n",
    "- To see more commands, please click the \"menu\" option (e.g. \"Insert\", \"Cell\")\n",
    "- To see more keyboard shortcuts, click the above \"keyboard image\" button. Use \"Esc\" to enter command mode. Then, you can use a command. Some of the popular shortcuts are \n",
    "    - Basic navigation: enter, shift-enter, up/k, down/j\n",
    "    - Saving the notebook: s\n",
    "    - Cell creation: a (above), b (below)"
   ]
  },
  {
   "cell_type": "markdown",
   "metadata": {},
   "source": [
    "# On-street-Parking-Bay-Sensor Melbourne City\n",
    "We will use open sensor data from Melbourne's open data platform in particular on-street parking bay sensors data. This data contains information from in-ground car parking bay sensors across the city with status indicating if a car is present or not present, the spatial coordinate of the sensor, and the street marker id. We will use this data and present the available parking spaces in the google maps.\n",
    "\n",
    "Information on the python libraries used in this activity:\n",
    "\n",
    "**sodapy** - sodapy is a python bindings for the Socrata Open Data API that allows you to programmatically access a wealth of open data resources from government, non-profits, and NGOs around the world.\n",
    "\n",
    "**gmplot** - gmplot is used to plot data on Google Maps, the easy way. It is matplotlib-like interface to generate the HTML and javascript to render all the data you’d like on top of Google Maps.  There are several plotting methods make creating exploratory map views effortless. \n"
   ]
  },
  {
   "cell_type": "code",
   "execution_count": null,
   "metadata": {},
   "outputs": [],
   "source": [
    "# Make sure to install these packages before running (Uncomment to install):\n",
    "# !pip3 install sodapy\n",
    "# !pip3 install gmplot"
   ]
  },
  {
   "cell_type": "markdown",
   "metadata": {},
   "source": [
    "Run the following files in sequential order to see the maps visualization in action.\n",
    "- Week12_Kafka_Producer.ipynb\n",
    "- Week12_Spark_Stream_Processor.ipnyb\n",
    "- Week12_Data_Visualization.ipnyb"
   ]
  }
 ],
 "metadata": {
  "kernelspec": {
   "display_name": "Python 3",
   "language": "python",
   "name": "python3"
  },
  "language_info": {
   "codemirror_mode": {
    "name": "ipython",
    "version": 3
   },
   "file_extension": ".py",
   "mimetype": "text/x-python",
   "name": "python",
   "nbconvert_exporter": "python",
   "pygments_lexer": "ipython3",
   "version": "3.5.2"
  }
 },
 "nbformat": 4,
 "nbformat_minor": 2
}
