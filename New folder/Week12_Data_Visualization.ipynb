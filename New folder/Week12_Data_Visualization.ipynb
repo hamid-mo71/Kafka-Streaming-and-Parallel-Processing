{
 "cells": [
  {
   "cell_type": "markdown",
   "metadata": {},
   "source": [
    "# Using \"gmplot\" to plot sensor data on Google Maps\n",
    "** gmplot ** is matplotlib-like interface to generate the HTML and javascript to render all the data you’d like on top of Google Maps. There are several plotting methods make creating exploratory map views effortless."
   ]
  },
  {
   "cell_type": "code",
   "execution_count": null,
   "metadata": {},
   "outputs": [],
   "source": [
    "# Make sure to install these packages before running (Uncomment to install):\n",
    "# !pip3 install gmplot"
   ]
  },
  {
   "cell_type": "code",
   "execution_count": null,
   "metadata": {},
   "outputs": [],
   "source": [
    "import gmplot\n",
    "# gmplot contains a simple wrapper around \n",
    "# Google’s geocoding service enabling map initilization to the location of your choice.\n",
    "gmap = gmplot.GoogleMapPlotter(-37.812015244225677, 144.951471202974, 15) # latitude and longitude of melbourne city\n"
   ]
  },
  {
   "cell_type": "code",
   "execution_count": null,
   "metadata": {},
   "outputs": [],
   "source": [
    "from pymongo import MongoClient\n",
    "\n",
    "client = MongoClient()\n",
    "db = client.fit5148_db\n",
    "week12 = db.week12\n",
    "# Preparing the data for plotting\n",
    "unoccupiedList = []\n",
    "\n",
    "# Looping through all the data\n",
    "for row in week12.find():\n",
    "    # Checking if the parking spot is available\n",
    "    if row['status'] == 'Unoccupied':\n",
    "        # Adding the latitude and longitude to the list of unoccupied spots\n",
    "    unoccupiedList.append((float(row['latitude']), float(row['longitude'])))"
   ]
  },
  {
   "cell_type": "code",
   "execution_count": null,
   "metadata": {},
   "outputs": [],
   "source": [
    "# The step below is required by the gmap scatter function to prepare data in correct format\n",
    "unoccupied_lats, unoccupied_lons = zip(*unoccupiedList) \n",
    "\n",
    "# Plotting the points on the map\n",
    "gmap.scatter(unoccupied_lats, unoccupied_lons, '#FF4500', size=2, marker=False)"
   ]
  },
  {
   "cell_type": "code",
   "execution_count": null,
   "metadata": {},
   "outputs": [],
   "source": [
    "import webbrowser\n",
    "# Drawing the map\n",
    "gmap.draw(\"availableParkings.html\")\n",
    "webbrowser.open_new(\"availableParkings.html\")"
   ]
  }
 ],
 "metadata": {
  "kernelspec": {
   "display_name": "Python 3",
   "language": "python",
   "name": "python3"
  },
  "language_info": {
   "codemirror_mode": {
    "name": "ipython",
    "version": 3
   },
   "file_extension": ".py",
   "mimetype": "text/x-python",
   "name": "python",
   "nbconvert_exporter": "python",
   "pygments_lexer": "ipython3",
   "version": "3.5.2"
  }
 },
 "nbformat": 4,
 "nbformat_minor": 2
}
